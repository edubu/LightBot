{
 "cells": [
  {
   "cell_type": "code",
   "execution_count": 2,
   "metadata": {},
   "outputs": [],
   "source": [
    "import requests\n",
    "api_url = 'http://poppy.local:8080'"
   ]
  },
  {
   "cell_type": "code",
   "execution_count": 3,
   "metadata": {},
   "outputs": [
    {
     "data": {
      "text/plain": [
       "{'motors': [{'registers': ['registers',\n",
       "    'goal_speed',\n",
       "    'compliant',\n",
       "    'safe_compliant',\n",
       "    'angle_limit',\n",
       "    'id',\n",
       "    'name',\n",
       "    'model',\n",
       "    'present_position',\n",
       "    'goal_position',\n",
       "    'present_speed',\n",
       "    'moving_speed',\n",
       "    'present_load',\n",
       "    'torque_limit',\n",
       "    'lower_limit',\n",
       "    'upper_limit',\n",
       "    'present_voltage',\n",
       "    'present_temperature',\n",
       "    'pid',\n",
       "    'led',\n",
       "    'control_mode'],\n",
       "   'goal_speed': -15.984000000000002,\n",
       "   'compliant': True,\n",
       "   'angle_limit': [-150.0, 150.0],\n",
       "   'id': 1,\n",
       "   'name': 'm1',\n",
       "   'model': 'XL-320',\n",
       "   'present_position': -62.02,\n",
       "   'goal_position': -14.52,\n",
       "   'present_speed': 0.0,\n",
       "   'moving_speed': 15.984000000000002,\n",
       "   'present_load': 0.0,\n",
       "   'torque_limit': 70.0,\n",
       "   'lower_limit': -150.0,\n",
       "   'upper_limit': 150.0,\n",
       "   'present_voltage': 7.0,\n",
       "   'present_temperature': 29.0,\n",
       "   'pid': [4, 2, 0],\n",
       "   'led': 'off',\n",
       "   'control_mode': 0},\n",
       "  {'registers': ['registers',\n",
       "    'goal_speed',\n",
       "    'compliant',\n",
       "    'safe_compliant',\n",
       "    'angle_limit',\n",
       "    'id',\n",
       "    'name',\n",
       "    'model',\n",
       "    'present_position',\n",
       "    'goal_position',\n",
       "    'present_speed',\n",
       "    'moving_speed',\n",
       "    'present_load',\n",
       "    'torque_limit',\n",
       "    'lower_limit',\n",
       "    'upper_limit',\n",
       "    'present_voltage',\n",
       "    'present_temperature',\n",
       "    'pid',\n",
       "    'led',\n",
       "    'control_mode'],\n",
       "   'goal_speed': 179.82,\n",
       "   'compliant': True,\n",
       "   'angle_limit': [89.88, -125.07],\n",
       "   'id': 2,\n",
       "   'name': 'm2',\n",
       "   'model': 'XL-320',\n",
       "   'present_position': 6.3,\n",
       "   'goal_position': 7.77,\n",
       "   'present_speed': -0.0,\n",
       "   'moving_speed': 179.82,\n",
       "   'present_load': -0.0,\n",
       "   'torque_limit': 70.0,\n",
       "   'lower_limit': 89.88,\n",
       "   'upper_limit': -125.07,\n",
       "   'present_voltage': 6.5,\n",
       "   'present_temperature': 28.0,\n",
       "   'pid': [4, 2, 0],\n",
       "   'led': 'off',\n",
       "   'control_mode': 0},\n",
       "  {'registers': ['registers',\n",
       "    'goal_speed',\n",
       "    'compliant',\n",
       "    'safe_compliant',\n",
       "    'angle_limit',\n",
       "    'id',\n",
       "    'name',\n",
       "    'model',\n",
       "    'present_position',\n",
       "    'goal_position',\n",
       "    'present_speed',\n",
       "    'moving_speed',\n",
       "    'present_load',\n",
       "    'torque_limit',\n",
       "    'lower_limit',\n",
       "    'upper_limit',\n",
       "    'present_voltage',\n",
       "    'present_temperature',\n",
       "    'pid',\n",
       "    'led',\n",
       "    'control_mode'],\n",
       "   'goal_speed': 56.61,\n",
       "   'compliant': True,\n",
       "   'angle_limit': [89.88, -89.88],\n",
       "   'id': 3,\n",
       "   'name': 'm3',\n",
       "   'model': 'XL-320',\n",
       "   'present_position': -18.33,\n",
       "   'goal_position': 20.67,\n",
       "   'present_speed': -0.0,\n",
       "   'moving_speed': 56.61,\n",
       "   'present_load': -0.0,\n",
       "   'torque_limit': 70.0,\n",
       "   'lower_limit': 89.88,\n",
       "   'upper_limit': -89.88,\n",
       "   'present_voltage': 6.1000000000000005,\n",
       "   'present_temperature': 27.0,\n",
       "   'pid': [4, 2, 0],\n",
       "   'led': 'off',\n",
       "   'control_mode': 0},\n",
       "  {'registers': ['registers',\n",
       "    'goal_speed',\n",
       "    'compliant',\n",
       "    'safe_compliant',\n",
       "    'angle_limit',\n",
       "    'id',\n",
       "    'name',\n",
       "    'model',\n",
       "    'present_position',\n",
       "    'goal_position',\n",
       "    'present_speed',\n",
       "    'moving_speed',\n",
       "    'present_load',\n",
       "    'torque_limit',\n",
       "    'lower_limit',\n",
       "    'upper_limit',\n",
       "    'present_voltage',\n",
       "    'present_temperature',\n",
       "    'pid',\n",
       "    'led',\n",
       "    'control_mode'],\n",
       "   'goal_speed': -83.25,\n",
       "   'compliant': True,\n",
       "   'angle_limit': [-150.0, 150.0],\n",
       "   'id': 4,\n",
       "   'name': 'm4',\n",
       "   'model': 'XL-320',\n",
       "   'present_position': -9.82,\n",
       "   'goal_position': -63.2,\n",
       "   'present_speed': 0.0,\n",
       "   'moving_speed': 83.25,\n",
       "   'present_load': 0.0,\n",
       "   'torque_limit': 70.0,\n",
       "   'lower_limit': -150.0,\n",
       "   'upper_limit': 150.0,\n",
       "   'present_voltage': 5.800000000000001,\n",
       "   'present_temperature': 28.0,\n",
       "   'pid': [4, 2, 0],\n",
       "   'led': 'off',\n",
       "   'control_mode': 0},\n",
       "  {'registers': ['registers',\n",
       "    'goal_speed',\n",
       "    'compliant',\n",
       "    'safe_compliant',\n",
       "    'angle_limit',\n",
       "    'id',\n",
       "    'name',\n",
       "    'model',\n",
       "    'present_position',\n",
       "    'goal_position',\n",
       "    'present_speed',\n",
       "    'moving_speed',\n",
       "    'present_load',\n",
       "    'torque_limit',\n",
       "    'lower_limit',\n",
       "    'upper_limit',\n",
       "    'present_voltage',\n",
       "    'present_temperature',\n",
       "    'pid',\n",
       "    'led',\n",
       "    'control_mode'],\n",
       "   'goal_speed': 55.278000000000006,\n",
       "   'compliant': True,\n",
       "   'angle_limit': [89.88, -89.88],\n",
       "   'id': 5,\n",
       "   'name': 'm5',\n",
       "   'model': 'XL-320',\n",
       "   'present_position': -1.91,\n",
       "   'goal_position': 31.23,\n",
       "   'present_speed': -0.0,\n",
       "   'moving_speed': 55.278000000000006,\n",
       "   'present_load': -0.0,\n",
       "   'torque_limit': 70.0,\n",
       "   'lower_limit': 89.88,\n",
       "   'upper_limit': -89.88,\n",
       "   'present_voltage': 5.6000000000000005,\n",
       "   'present_temperature': 27.0,\n",
       "   'pid': [4, 2, 0],\n",
       "   'led': 'off',\n",
       "   'control_mode': 0}],\n",
       " 'primitives': [{'primitive': 'safe_power_up',\n",
       "   'running': False,\n",
       "   'properties': [],\n",
       "   'methods': ['start', 'stop', 'pause', 'resume']},\n",
       "  {'primitive': 'dance',\n",
       "   'running': False,\n",
       "   'properties': [],\n",
       "   'methods': ['start', 'stop', 'pause', 'resume']},\n",
       "  {'primitive': 'base_posture',\n",
       "   'running': False,\n",
       "   'properties': [],\n",
       "   'methods': ['start', 'stop', 'pause', 'resume']},\n",
       "  {'primitive': 'rest_posture',\n",
       "   'running': False,\n",
       "   'properties': [],\n",
       "   'methods': ['start', 'stop', 'pause', 'resume']}]}"
      ]
     },
     "execution_count": 3,
     "metadata": {},
     "output_type": "execute_result"
    }
   ],
   "source": [
    "resource_uri = '/robot.json'\n",
    "response = requests.get(api_url + resource_uri)\n",
    "response.json()"
   ]
  },
  {
   "cell_type": "code",
   "execution_count": 10,
   "metadata": {},
   "outputs": [],
   "source": [
    "def get_motor_names() -> list:\n",
    "    motor_list_uri = '/motors/list.json'\n",
    "    res = requests.get(api_url + motor_list_uri)\n",
    "    res = res.json()\n",
    "    \n",
    "    return res['motors']"
   ]
  },
  {
   "cell_type": "code",
   "execution_count": 11,
   "metadata": {},
   "outputs": [
    {
     "data": {
      "text/plain": [
       "{'registers': ['registers',\n",
       "  'goal_speed',\n",
       "  'compliant',\n",
       "  'safe_compliant',\n",
       "  'angle_limit',\n",
       "  'id',\n",
       "  'name',\n",
       "  'model',\n",
       "  'present_position',\n",
       "  'goal_position',\n",
       "  'present_speed',\n",
       "  'moving_speed',\n",
       "  'present_load',\n",
       "  'torque_limit',\n",
       "  'lower_limit',\n",
       "  'upper_limit',\n",
       "  'present_voltage',\n",
       "  'present_temperature',\n",
       "  'pid',\n",
       "  'led',\n",
       "  'control_mode']}"
      ]
     },
     "execution_count": 11,
     "metadata": {},
     "output_type": "execute_result"
    }
   ],
   "source": [
    "# getting registers from motor name\n",
    "motor_name = 'm1'\n",
    "motor_registers_uri = f'/motors/{motor_name}/registers/list.json'\n",
    "res = requests.get(api_url + motor_registers_uri)\n",
    "res = res.json()\n",
    "res"
   ]
  },
  {
   "cell_type": "code",
   "execution_count": 49,
   "metadata": {},
   "outputs": [
    {
     "data": {
      "text/plain": [
       "[-62.02, -24.19, -18.62, -48.83, -1.91]"
      ]
     },
     "execution_count": 49,
     "metadata": {},
     "output_type": "execute_result"
    }
   ],
   "source": [
    "def get_joint_angles():\n",
    "    register = 'present_position'\n",
    "    motor_names = get_motor_names()\n",
    "    joint_angles_uri = f'/motors/registers/{register}/list.json'\n",
    "    response = requests.get(api_url + joint_angles_uri)\n",
    "    response = response.json()\n",
    "    \n",
    "    joint_angles = []\n",
    "    for mname in motor_names:\n",
    "        joint_angles.append(response[register][mname])\n",
    "    \n",
    "    return joint_angles\n",
    "\n",
    "get_joint_angles()\n",
    "        "
   ]
  },
  {
   "cell_type": "code",
   "execution_count": 22,
   "metadata": {},
   "outputs": [
    {
     "name": "stdout",
     "output_type": "stream",
     "text": [
      "{'lower_limit': {'m1': -150.0, 'm2': 89.88, 'm3': 89.88, 'm4': -150.0, 'm5': 89.88}}\n",
      "{'upper_limit': {'m1': 150.0, 'm2': -125.07, 'm3': -89.88, 'm4': 150.0, 'm5': -89.88}}\n",
      "{'m1': [-150.0, 150.0], 'm2': [89.88, -125.07], 'm3': [89.88, -89.88], 'm4': [-150.0, 150.0], 'm5': [89.88, -89.88]}\n"
     ]
    }
   ],
   "source": [
    "def get_joint_limits():\n",
    "    motor_names = get_motor_names()\n",
    "    \n",
    "    reg_low = 'lower_limit'\n",
    "    reg_up = 'upper_limit'\n",
    "    \n",
    "    low_limits_uri = f'/motors/registers/{reg_low}/list.json'\n",
    "    up_limits_uri = f'/motors/registers/{reg_up}/list.json'\n",
    "    \n",
    "    res = requests.get(api_url + low_limits_uri)\n",
    "    lower_limits = res.json()\n",
    "    print(lower_limits)\n",
    "    \n",
    "    res = requests.get(api_url + up_limits_uri)\n",
    "    upper_limits = res.json()\n",
    "    print(upper_limits)\n",
    "    \n",
    "    joint_limits = {}\n",
    "    for mname in motor_names:\n",
    "        lower_limit = lower_limits['lower_limit'][mname]\n",
    "        upper_limit = upper_limits['upper_limit'][mname]\n",
    "        joint_limits[mname] = [lower_limit, upper_limit]\n",
    "    \n",
    "    return joint_limits\n",
    "\n",
    "joint_limits = get_joint_limits()\n",
    "print(joint_limits)"
   ]
  },
  {
   "cell_type": "code",
   "execution_count": 27,
   "metadata": {},
   "outputs": [],
   "source": [
    "def calculate_wait_time(angles, speed=180):\n",
    "        curr_pos = get_joint_angles()\n",
    "        motor_names = get_motor_names()\n",
    "        diffs = [abs(angles[i] - curr_pos[i]) for i in range(len(motor_names))]\n",
    "        \n",
    "        max_speed = 360\n",
    "        if speed > max_speed:\n",
    "            speed = max_speed\n",
    "        return 1/(speed/max(diffs))"
   ]
  },
  {
   "cell_type": "code",
   "execution_count": 53,
   "metadata": {},
   "outputs": [
    {
     "name": "stdout",
     "output_type": "stream",
     "text": [
      "{'motors': {'m1': 0.0, 'm2': 0.0, 'm3': 0.0, 'm4': 0.0, 'm5': 0.0}, 'duration': 0.41300000000000003, 'waiting': True}\n"
     ]
    }
   ],
   "source": [
    "def set_joint_angles(angles: list, speed=180):\n",
    "    move_joint_uri = '/motors/goto.json'\n",
    "    \n",
    "    motor_names = get_motor_names()\n",
    "    move_command = {}\n",
    "    move_command['motors'] = motor_names\n",
    "    move_command['positions'] = angles\n",
    "    \n",
    "    wait_time = calculate_wait_time(angles, speed=speed)\n",
    "    move_command['duration'] = str(wait_time)\n",
    "    move_command['wait'] = True\n",
    "    \n",
    "    res = requests.post(api_url + move_joint_uri, json=move_command)\n",
    "    print(res.json())\n",
    "    \n",
    "angles = [0, 0, 0, 0, 0]\n",
    "set_joint_angles(angles)"
   ]
  },
  {
   "cell_type": "code",
   "execution_count": 40,
   "metadata": {},
   "outputs": [
    {
     "name": "stdout",
     "output_type": "stream",
     "text": [
      "{'motors': {'m1': 20.0}, 'duration': 2.0, 'waiting': False}\n"
     ]
    }
   ],
   "source": [
    "move_command = {\n",
    "    \"motors\": [\"m1\"],\n",
    "    \"positions\": [20],\n",
    "    \"duration\": \"2\",\n",
    "    \"wait\": False\n",
    "}\n",
    "\n",
    "move_joint_uri = '/motors/goto.json'\n",
    "res = requests.post(api_url + move_joint_uri, json=move_command)\n",
    "print(res.json())\n"
   ]
  },
  {
   "cell_type": "code",
   "execution_count": 50,
   "metadata": {},
   "outputs": [
    {
     "name": "stdout",
     "output_type": "stream",
     "text": [
      "{'led': 'red'}\n"
     ]
    }
   ],
   "source": [
    "def set_motor_led(motor_name, led_state):\n",
    "    led_uri = f'/motors/{motor_name}/registers/led/value.json'\n",
    "    \n",
    "    \n",
    "    \n",
    "    res = requests.post(api_url + led_uri, json=led_state)\n",
    "    print(res.json())\n",
    "\n",
    "set_motor_led('m1', 'red')\n",
    "\n"
   ]
  },
  {
   "cell_type": "code",
   "execution_count": 51,
   "metadata": {},
   "outputs": [
    {
     "name": "stdout",
     "output_type": "stream",
     "text": [
      "{'compliant': False}\n"
     ]
    }
   ],
   "source": [
    "def set_motor_compliance(motor_name, isCompliant):\n",
    "    comp_uri = f'/motors/{motor_name}/registers/compliant/value.json'\n",
    "    \n",
    "    res = requests.post(api_url + comp_uri, json=isCompliant)\n",
    "    print(res.json())\n",
    "\n",
    "set_motor_compliance('m1', False)\n",
    "    "
   ]
  },
  {
   "cell_type": "code",
   "execution_count": 52,
   "metadata": {},
   "outputs": [
    {
     "name": "stdout",
     "output_type": "stream",
     "text": [
      "{'compliant': False}\n",
      "{'compliant': False}\n",
      "{'compliant': False}\n",
      "{'compliant': False}\n",
      "{'compliant': False}\n"
     ]
    }
   ],
   "source": [
    "def set_motors_compliance(compliance_states):\n",
    "    motor_names = get_motor_names()\n",
    "    for i in range(len(motor_names)):\n",
    "        set_motor_compliance(motor_names[i], compliance_states[i]) \n",
    "\n",
    "set_motors_compliance([False for i in range(5)])"
   ]
  }
 ],
 "metadata": {
  "kernelspec": {
   "display_name": "Python 3.8.10 64-bit",
   "language": "python",
   "name": "python3"
  },
  "language_info": {
   "codemirror_mode": {
    "name": "ipython",
    "version": 3
   },
   "file_extension": ".py",
   "mimetype": "text/x-python",
   "name": "python",
   "nbconvert_exporter": "python",
   "pygments_lexer": "ipython3",
   "version": "3.8.10"
  },
  "orig_nbformat": 4,
  "vscode": {
   "interpreter": {
    "hash": "31f2aee4e71d21fbe5cf8b01ff0e069b9275f58929596ceb00d14d90e3e16cd6"
   }
  }
 },
 "nbformat": 4,
 "nbformat_minor": 2
}
